{
 "cells": [
  {
   "cell_type": "code",
   "execution_count": 1,
   "id": "f43247cd",
   "metadata": {},
   "outputs": [
    {
     "data": {
      "text/html": [
       "        <script type=\"text/javascript\">\n",
       "        window.PlotlyConfig = {MathJaxConfig: 'local'};\n",
       "        if (window.MathJax) {MathJax.Hub.Config({SVG: {font: \"STIX-Web\"}});}\n",
       "        if (typeof require !== 'undefined') {\n",
       "        require.undef(\"plotly\");\n",
       "        requirejs.config({\n",
       "            paths: {\n",
       "                'plotly': ['https://cdn.plot.ly/plotly-2.3.1.min']\n",
       "            }\n",
       "        });\n",
       "        require(['plotly'], function(Plotly) {\n",
       "            window._Plotly = Plotly;\n",
       "        });\n",
       "        }\n",
       "        </script>\n",
       "        "
      ]
     },
     "metadata": {},
     "output_type": "display_data"
    },
    {
     "data": {
      "text/html": [
       "        <script type=\"text/javascript\">\n",
       "        window.PlotlyConfig = {MathJaxConfig: 'local'};\n",
       "        if (window.MathJax) {MathJax.Hub.Config({SVG: {font: \"STIX-Web\"}});}\n",
       "        if (typeof require !== 'undefined') {\n",
       "        require.undef(\"plotly\");\n",
       "        requirejs.config({\n",
       "            paths: {\n",
       "                'plotly': ['https://cdn.plot.ly/plotly-2.3.1.min']\n",
       "            }\n",
       "        });\n",
       "        require(['plotly'], function(Plotly) {\n",
       "            window._Plotly = Plotly;\n",
       "        });\n",
       "        }\n",
       "        </script>\n",
       "        "
      ]
     },
     "metadata": {},
     "output_type": "display_data"
    }
   ],
   "source": [
    "#data manipulation import\n",
    "import pandas as pd\n",
    "import numpy as np\n",
    "\n",
    "#graphs import\n",
    "import plotly.express as px\n",
    "import matplotlib.pyplot as plt\n",
    "from plotly.offline import download_plotlyjs, init_notebook_mode, plot\n",
    "init_notebook_mode(connected=True)\n",
    "cf.go_offline()\n",
    "import plotly.graph_objects as go\n",
    "from plotly.subplots import make_subplots\n",
    "\n",
    "#Tensorflow import\n",
    "import tensorflow as tf\n",
    "from tensorflow import feature_column\n",
    "from tensorflow.keras import layers\n",
    "\n",
    "#Sci-kit learn import data split\n",
    "from sklearn.model_selection import train_test_split"
   ]
  },
  {
   "cell_type": "code",
   "execution_count": 2,
   "id": "780e186b",
   "metadata": {},
   "outputs": [],
   "source": [
    "#Getting all data from csv files\n",
    "train_df = pd.read_csv('./housing/train.csv')\n",
    "test_df = pd.read_csv('./housing/test.csv', na_values=['nan'])"
   ]
  },
  {
   "cell_type": "code",
   "execution_count": 3,
   "id": "8c57e5d2",
   "metadata": {},
   "outputs": [
    {
     "data": {
      "text/plain": [
       "Index(['Id', 'MSSubClass', 'MSZoning', 'LotFrontage', 'LotArea', 'Street',\n",
       "       'Alley', 'LotShape', 'LandContour', 'Utilities', 'LotConfig',\n",
       "       'LandSlope', 'Neighborhood', 'Condition1', 'Condition2', 'BldgType',\n",
       "       'HouseStyle', 'OverallQual', 'OverallCond', 'YearBuilt', 'YearRemodAdd',\n",
       "       'RoofStyle', 'RoofMatl', 'Exterior1st', 'Exterior2nd', 'MasVnrType',\n",
       "       'MasVnrArea', 'ExterQual', 'ExterCond', 'Foundation', 'BsmtQual',\n",
       "       'BsmtCond', 'BsmtExposure', 'BsmtFinType1', 'BsmtFinSF1',\n",
       "       'BsmtFinType2', 'BsmtFinSF2', 'BsmtUnfSF', 'TotalBsmtSF', 'Heating',\n",
       "       'HeatingQC', 'CentralAir', 'Electrical', '1stFlrSF', '2ndFlrSF',\n",
       "       'LowQualFinSF', 'GrLivArea', 'BsmtFullBath', 'BsmtHalfBath', 'FullBath',\n",
       "       'HalfBath', 'BedroomAbvGr', 'KitchenAbvGr', 'KitchenQual',\n",
       "       'TotRmsAbvGrd', 'Functional', 'Fireplaces', 'FireplaceQu', 'GarageType',\n",
       "       'GarageYrBlt', 'GarageFinish', 'GarageCars', 'GarageArea', 'GarageQual',\n",
       "       'GarageCond', 'PavedDrive', 'WoodDeckSF', 'OpenPorchSF',\n",
       "       'EnclosedPorch', '3SsnPorch', 'ScreenPorch', 'PoolArea', 'PoolQC',\n",
       "       'Fence', 'MiscFeature', 'MiscVal', 'MoSold', 'YrSold', 'SaleType',\n",
       "       'SaleCondition', 'SalePrice'],\n",
       "      dtype='object')"
      ]
     },
     "execution_count": 3,
     "metadata": {},
     "output_type": "execute_result"
    }
   ],
   "source": [
    "train_df.columns"
   ]
  },
  {
   "cell_type": "code",
   "execution_count": 4,
   "id": "4be4ea66",
   "metadata": {},
   "outputs": [],
   "source": [
    "train=train_df[['OverallQual', 'GrLivArea', 'GarageCars', '1stFlrSF', 'TotalBsmtSF', 'FullBath', 'YearBuilt', 'SalePrice']].copy()"
   ]
  },
  {
   "cell_type": "code",
   "execution_count": 20,
   "id": "ef8c8553",
   "metadata": {},
   "outputs": [],
   "source": [
    "#Standardizing values in train and test dataframe\n",
    "column_names=['OverallQual', 'GrLivArea', 'GarageCars', '1stFlrSF', 'TotalBsmtSF', 'FullBath', 'YearBuilt', 'SalePrice']\n",
    "\n",
    "def standardize(dataframe, columns):\n",
    "    for name in columns:\n",
    "        dataframe[name] = (dataframe[name] - dataframe[name].mean()) / dataframe[name].std()\n",
    "    return dataframe\n",
    "\n",
    "train = standardize(train, column_names)\n",
    "\n",
    "train = train.drop(train[train.SalePrice > 5.4].index)"
   ]
  },
  {
   "cell_type": "code",
   "execution_count": 6,
   "id": "5116c22d",
   "metadata": {},
   "outputs": [],
   "source": [
    "#Transforming dataframe to tensorflow dataset method\n",
    "def df_to_dataset(dataframe, shuffle=True, batch_size=32):\n",
    "    dataframe=dataframe.copy()\n",
    "    labels = dataframe.pop('SalePrice')\n",
    "    ds = tf.data.Dataset.from_tensor_slices((dict(dataframe),labels))\n",
    "    if shuffle:\n",
    "        ds = ds.shuffle(buffer_size=len(dataframe))\n",
    "    ds = ds.batch(batch_size)\n",
    "    return ds"
   ]
  },
  {
   "cell_type": "code",
   "execution_count": 68,
   "id": "c52d1ed0",
   "metadata": {},
   "outputs": [],
   "source": [
    "#spliting train data for train and validation and then transforming all data to tensorflow dataset\n",
    "batch_size=16\n",
    "train, val =  train_test_split(train, test_size=0.01)\n",
    "train_ds = df_to_dataset(train, batch_size=batch_size)\n",
    "val_ds = df_to_dataset(val, shuffle=False, batch_size=batch_size)"
   ]
  },
  {
   "cell_type": "code",
   "execution_count": 8,
   "id": "721a5522",
   "metadata": {},
   "outputs": [],
   "source": [
    "#Creating Feature Columns Layer\n",
    "\n",
    "feature_columns = []\n",
    "\n",
    "for name in column_names[0:-1]:\n",
    "    feature_columns.append(feature_column.numeric_column(name))\n",
    "    \n",
    "feature_layer = tf.keras.layers.DenseFeatures(feature_columns)"
   ]
  },
  {
   "cell_type": "code",
   "execution_count": 74,
   "id": "a1cdeadd",
   "metadata": {},
   "outputs": [
    {
     "name": "stdout",
     "output_type": "stream",
     "text": [
      "Epoch 1/120\n",
      "WARNING:tensorflow:Layers in a Sequential model should only have a single input tensor, but we receive a <class 'dict'> input: {'OverallQual': <tf.Tensor 'ExpandDims_4:0' shape=(None, 1) dtype=float64>, 'GrLivArea': <tf.Tensor 'ExpandDims_3:0' shape=(None, 1) dtype=float64>, 'GarageCars': <tf.Tensor 'ExpandDims_2:0' shape=(None, 1) dtype=float64>, '1stFlrSF': <tf.Tensor 'ExpandDims:0' shape=(None, 1) dtype=float64>, 'TotalBsmtSF': <tf.Tensor 'ExpandDims_5:0' shape=(None, 1) dtype=float64>, 'FullBath': <tf.Tensor 'ExpandDims_1:0' shape=(None, 1) dtype=float64>, 'YearBuilt': <tf.Tensor 'ExpandDims_6:0' shape=(None, 1) dtype=float64>}\n",
      "Consider rewriting this model with the Functional API.\n",
      "WARNING:tensorflow:Layers in a Sequential model should only have a single input tensor, but we receive a <class 'dict'> input: {'OverallQual': <tf.Tensor 'ExpandDims_4:0' shape=(None, 1) dtype=float64>, 'GrLivArea': <tf.Tensor 'ExpandDims_3:0' shape=(None, 1) dtype=float64>, 'GarageCars': <tf.Tensor 'ExpandDims_2:0' shape=(None, 1) dtype=float64>, '1stFlrSF': <tf.Tensor 'ExpandDims:0' shape=(None, 1) dtype=float64>, 'TotalBsmtSF': <tf.Tensor 'ExpandDims_5:0' shape=(None, 1) dtype=float64>, 'FullBath': <tf.Tensor 'ExpandDims_1:0' shape=(None, 1) dtype=float64>, 'YearBuilt': <tf.Tensor 'ExpandDims_6:0' shape=(None, 1) dtype=float64>}\n",
      "Consider rewriting this model with the Functional API.\n",
      " 1/49 [..............................] - ETA: 0s - loss: 1.7868 - mean_squared_error: 1.0771WARNING:tensorflow:Layers in a Sequential model should only have a single input tensor, but we receive a <class 'dict'> input: {'OverallQual': <tf.Tensor 'ExpandDims_4:0' shape=(None, 1) dtype=float64>, 'GrLivArea': <tf.Tensor 'ExpandDims_3:0' shape=(None, 1) dtype=float64>, 'GarageCars': <tf.Tensor 'ExpandDims_2:0' shape=(None, 1) dtype=float64>, '1stFlrSF': <tf.Tensor 'ExpandDims:0' shape=(None, 1) dtype=float64>, 'TotalBsmtSF': <tf.Tensor 'ExpandDims_5:0' shape=(None, 1) dtype=float64>, 'FullBath': <tf.Tensor 'ExpandDims_1:0' shape=(None, 1) dtype=float64>, 'YearBuilt': <tf.Tensor 'ExpandDims_6:0' shape=(None, 1) dtype=float64>}\n",
      "Consider rewriting this model with the Functional API.\n",
      "49/49 [==============================] - 0s 5ms/step - loss: 0.8573 - mean_squared_error: 0.3553 - val_loss: 1.5817 - val_mean_squared_error: 1.2914\n",
      "Epoch 2/120\n",
      "49/49 [==============================] - 0s 1ms/step - loss: 0.4872 - mean_squared_error: 0.2936 - val_loss: 1.3910 - val_mean_squared_error: 1.2585\n",
      "Epoch 3/120\n",
      "49/49 [==============================] - 0s 1ms/step - loss: 0.3926 - mean_squared_error: 0.2919 - val_loss: 1.3382 - val_mean_squared_error: 1.2622\n",
      "Epoch 4/120\n",
      "49/49 [==============================] - 0s 1ms/step - loss: 0.3617 - mean_squared_error: 0.2937 - val_loss: 1.3175 - val_mean_squared_error: 1.2576\n",
      "Epoch 5/120\n",
      "49/49 [==============================] - 0s 1ms/step - loss: 0.3474 - mean_squared_error: 0.2887 - val_loss: 1.3617 - val_mean_squared_error: 1.3031\n",
      "Epoch 6/120\n",
      "49/49 [==============================] - 0s 1ms/step - loss: 0.3376 - mean_squared_error: 0.2859 - val_loss: 1.2991 - val_mean_squared_error: 1.2487\n",
      "Epoch 7/120\n",
      "49/49 [==============================] - 0s 1ms/step - loss: 0.3350 - mean_squared_error: 0.2879 - val_loss: 1.3010 - val_mean_squared_error: 1.2577\n",
      "Epoch 8/120\n",
      "49/49 [==============================] - 0s 1ms/step - loss: 0.3287 - mean_squared_error: 0.2849 - val_loss: 1.2924 - val_mean_squared_error: 1.2498\n",
      "Epoch 9/120\n",
      "49/49 [==============================] - 0s 1ms/step - loss: 0.3295 - mean_squared_error: 0.2894 - val_loss: 1.2969 - val_mean_squared_error: 1.2573\n",
      "Epoch 10/120\n",
      "49/49 [==============================] - 0s 1ms/step - loss: 0.3285 - mean_squared_error: 0.2903 - val_loss: 1.3091 - val_mean_squared_error: 1.2737\n",
      "Epoch 11/120\n",
      "49/49 [==============================] - 0s 1ms/step - loss: 0.3243 - mean_squared_error: 0.2876 - val_loss: 1.3116 - val_mean_squared_error: 1.2751\n",
      "Epoch 12/120\n",
      "49/49 [==============================] - 0s 1ms/step - loss: 0.3207 - mean_squared_error: 0.2852 - val_loss: 1.3058 - val_mean_squared_error: 1.2719\n",
      "Epoch 13/120\n",
      "49/49 [==============================] - 0s 1ms/step - loss: 0.3219 - mean_squared_error: 0.2877 - val_loss: 1.3225 - val_mean_squared_error: 1.2896\n",
      "Epoch 14/120\n",
      "49/49 [==============================] - 0s 1ms/step - loss: 0.3178 - mean_squared_error: 0.2857 - val_loss: 1.2772 - val_mean_squared_error: 1.2437\n",
      "Epoch 15/120\n",
      "49/49 [==============================] - 0s 1ms/step - loss: 0.3137 - mean_squared_error: 0.2808 - val_loss: 1.2969 - val_mean_squared_error: 1.2638\n",
      "Epoch 16/120\n",
      "49/49 [==============================] - 0s 1ms/step - loss: 0.3171 - mean_squared_error: 0.2852 - val_loss: 1.2675 - val_mean_squared_error: 1.2385\n",
      "Epoch 17/120\n",
      "49/49 [==============================] - 0s 1ms/step - loss: 0.3145 - mean_squared_error: 0.2830 - val_loss: 1.2835 - val_mean_squared_error: 1.2530\n",
      "Epoch 18/120\n",
      "49/49 [==============================] - 0s 1ms/step - loss: 0.3154 - mean_squared_error: 0.2854 - val_loss: 1.2986 - val_mean_squared_error: 1.2670\n",
      "Epoch 19/120\n",
      "49/49 [==============================] - 0s 1ms/step - loss: 0.3174 - mean_squared_error: 0.2864 - val_loss: 1.2699 - val_mean_squared_error: 1.2401\n",
      "Epoch 20/120\n",
      "49/49 [==============================] - 0s 1ms/step - loss: 0.3133 - mean_squared_error: 0.2838 - val_loss: 1.3183 - val_mean_squared_error: 1.2868\n",
      "Epoch 21/120\n",
      "49/49 [==============================] - 0s 1ms/step - loss: 0.3150 - mean_squared_error: 0.2836 - val_loss: 1.2707 - val_mean_squared_error: 1.2412\n",
      "Epoch 22/120\n",
      "49/49 [==============================] - 0s 1ms/step - loss: 0.3202 - mean_squared_error: 0.2901 - val_loss: 1.2869 - val_mean_squared_error: 1.2568\n",
      "Epoch 23/120\n",
      "49/49 [==============================] - 0s 1ms/step - loss: 0.3096 - mean_squared_error: 0.2796 - val_loss: 1.2679 - val_mean_squared_error: 1.2411\n",
      "Epoch 24/120\n",
      "49/49 [==============================] - 0s 1ms/step - loss: 0.3092 - mean_squared_error: 0.2817 - val_loss: 1.2780 - val_mean_squared_error: 1.2494\n",
      "Epoch 25/120\n",
      "49/49 [==============================] - 0s 1ms/step - loss: 0.3134 - mean_squared_error: 0.2840 - val_loss: 1.2810 - val_mean_squared_error: 1.2504\n",
      "Epoch 26/120\n",
      "49/49 [==============================] - 0s 1ms/step - loss: 0.3129 - mean_squared_error: 0.2837 - val_loss: 1.2915 - val_mean_squared_error: 1.2629\n",
      "Epoch 27/120\n",
      "49/49 [==============================] - 0s 1ms/step - loss: 0.3089 - mean_squared_error: 0.2811 - val_loss: 1.3308 - val_mean_squared_error: 1.3015\n",
      "Epoch 28/120\n",
      "49/49 [==============================] - 0s 1ms/step - loss: 0.3122 - mean_squared_error: 0.2834 - val_loss: 1.2737 - val_mean_squared_error: 1.2486\n",
      "Epoch 29/120\n",
      "49/49 [==============================] - 0s 1ms/step - loss: 0.3109 - mean_squared_error: 0.2843 - val_loss: 1.2633 - val_mean_squared_error: 1.2350\n",
      "Epoch 30/120\n",
      "49/49 [==============================] - 0s 1ms/step - loss: 0.3195 - mean_squared_error: 0.2860 - val_loss: 1.2744 - val_mean_squared_error: 1.2423\n",
      "Epoch 31/120\n",
      "49/49 [==============================] - 0s 1ms/step - loss: 0.3120 - mean_squared_error: 0.2840 - val_loss: 1.2869 - val_mean_squared_error: 1.2594\n",
      "Epoch 32/120\n",
      "49/49 [==============================] - 0s 1ms/step - loss: 0.3123 - mean_squared_error: 0.2852 - val_loss: 1.2632 - val_mean_squared_error: 1.2358\n",
      "Epoch 33/120\n",
      "49/49 [==============================] - 0s 1ms/step - loss: 0.3120 - mean_squared_error: 0.2830 - val_loss: 1.2970 - val_mean_squared_error: 1.2685\n",
      "Epoch 34/120\n",
      "49/49 [==============================] - 0s 1ms/step - loss: 0.3120 - mean_squared_error: 0.2845 - val_loss: 1.2712 - val_mean_squared_error: 1.2455\n",
      "Epoch 35/120\n",
      "49/49 [==============================] - 0s 1ms/step - loss: 0.3040 - mean_squared_error: 0.2791 - val_loss: 1.2645 - val_mean_squared_error: 1.2399\n",
      "Epoch 36/120\n",
      "49/49 [==============================] - 0s 1ms/step - loss: 0.3075 - mean_squared_error: 0.2825 - val_loss: 1.2875 - val_mean_squared_error: 1.2631\n",
      "Epoch 37/120\n",
      "49/49 [==============================] - 0s 1ms/step - loss: 0.3123 - mean_squared_error: 0.2871 - val_loss: 1.2867 - val_mean_squared_error: 1.2593\n",
      "Epoch 38/120\n",
      "49/49 [==============================] - 0s 1ms/step - loss: 0.3093 - mean_squared_error: 0.2804 - val_loss: 1.2719 - val_mean_squared_error: 1.2444\n",
      "Epoch 39/120\n",
      "49/49 [==============================] - 0s 1ms/step - loss: 0.3108 - mean_squared_error: 0.2855 - val_loss: 1.2943 - val_mean_squared_error: 1.2670\n",
      "Epoch 40/120\n",
      "49/49 [==============================] - 0s 1ms/step - loss: 0.3078 - mean_squared_error: 0.2819 - val_loss: 1.2853 - val_mean_squared_error: 1.2600\n",
      "Epoch 41/120\n",
      "49/49 [==============================] - 0s 1ms/step - loss: 0.3093 - mean_squared_error: 0.2843 - val_loss: 1.2777 - val_mean_squared_error: 1.2543\n",
      "Epoch 42/120\n",
      "49/49 [==============================] - 0s 1ms/step - loss: 0.3207 - mean_squared_error: 0.2941 - val_loss: 1.2850 - val_mean_squared_error: 1.2595\n",
      "Epoch 43/120\n",
      "49/49 [==============================] - 0s 1ms/step - loss: 0.3056 - mean_squared_error: 0.2814 - val_loss: 1.2622 - val_mean_squared_error: 1.2383\n",
      "Epoch 44/120\n",
      "49/49 [==============================] - 0s 1ms/step - loss: 0.3113 - mean_squared_error: 0.2876 - val_loss: 1.3031 - val_mean_squared_error: 1.2761\n",
      "Epoch 45/120\n",
      "49/49 [==============================] - 0s 1ms/step - loss: 0.3160 - mean_squared_error: 0.2862 - val_loss: 1.2722 - val_mean_squared_error: 1.2462\n",
      "Epoch 46/120\n",
      "49/49 [==============================] - 0s 1ms/step - loss: 0.3080 - mean_squared_error: 0.2826 - val_loss: 1.2778 - val_mean_squared_error: 1.2544\n",
      "Epoch 47/120\n",
      "49/49 [==============================] - 0s 977us/step - loss: 0.3055 - mean_squared_error: 0.2817 - val_loss: 1.2854 - val_mean_squared_error: 1.2612\n",
      "Epoch 48/120\n",
      "49/49 [==============================] - 0s 1ms/step - loss: 0.3062 - mean_squared_error: 0.2838 - val_loss: 1.2666 - val_mean_squared_error: 1.2433\n",
      "Epoch 49/120\n",
      "49/49 [==============================] - 0s 1ms/step - loss: 0.3163 - mean_squared_error: 0.2891 - val_loss: 1.2864 - val_mean_squared_error: 1.2591\n",
      "Epoch 50/120\n",
      "49/49 [==============================] - 0s 1ms/step - loss: 0.3090 - mean_squared_error: 0.2827 - val_loss: 1.3107 - val_mean_squared_error: 1.2860\n",
      "Epoch 51/120\n",
      "49/49 [==============================] - 0s 912us/step - loss: 0.3070 - mean_squared_error: 0.2825 - val_loss: 1.2702 - val_mean_squared_error: 1.2472\n",
      "Epoch 52/120\n",
      "49/49 [==============================] - 0s 997us/step - loss: 0.3034 - mean_squared_error: 0.2809 - val_loss: 1.2783 - val_mean_squared_error: 1.2552\n",
      "Epoch 53/120\n",
      "49/49 [==============================] - 0s 1ms/step - loss: 0.3062 - mean_squared_error: 0.2835 - val_loss: 1.2676 - val_mean_squared_error: 1.2450\n",
      "Epoch 54/120\n",
      "49/49 [==============================] - 0s 1ms/step - loss: 0.3071 - mean_squared_error: 0.2840 - val_loss: 1.3207 - val_mean_squared_error: 1.2955\n",
      "Epoch 55/120\n",
      "49/49 [==============================] - 0s 2ms/step - loss: 0.3100 - mean_squared_error: 0.2847 - val_loss: 1.2926 - val_mean_squared_error: 1.2668\n",
      "Epoch 56/120\n",
      "49/49 [==============================] - 0s 1ms/step - loss: 0.3047 - mean_squared_error: 0.2808 - val_loss: 1.2659 - val_mean_squared_error: 1.2436\n",
      "Epoch 57/120\n",
      "49/49 [==============================] - 0s 1ms/step - loss: 0.3062 - mean_squared_error: 0.2832 - val_loss: 1.2979 - val_mean_squared_error: 1.2712\n",
      "Epoch 58/120\n",
      "49/49 [==============================] - 0s 1ms/step - loss: 0.3086 - mean_squared_error: 0.2802 - val_loss: 1.2532 - val_mean_squared_error: 1.2290\n",
      "Epoch 59/120\n",
      "49/49 [==============================] - 0s 1ms/step - loss: 0.3016 - mean_squared_error: 0.2777 - val_loss: 1.2588 - val_mean_squared_error: 1.2375\n",
      "Epoch 60/120\n",
      "49/49 [==============================] - 0s 1ms/step - loss: 0.3073 - mean_squared_error: 0.2857 - val_loss: 1.2820 - val_mean_squared_error: 1.2592\n",
      "Epoch 61/120\n",
      "49/49 [==============================] - 0s 1ms/step - loss: 0.3086 - mean_squared_error: 0.2856 - val_loss: 1.2965 - val_mean_squared_error: 1.2688\n",
      "Epoch 62/120\n",
      "49/49 [==============================] - 0s 1ms/step - loss: 0.3162 - mean_squared_error: 0.2865 - val_loss: 1.2810 - val_mean_squared_error: 1.2560\n",
      "Epoch 63/120\n",
      "49/49 [==============================] - 0s 1ms/step - loss: 0.3043 - mean_squared_error: 0.2790 - val_loss: 1.2774 - val_mean_squared_error: 1.2543\n",
      "Epoch 64/120\n",
      "49/49 [==============================] - 0s 947us/step - loss: 0.3055 - mean_squared_error: 0.2821 - val_loss: 1.2694 - val_mean_squared_error: 1.2488\n",
      "Epoch 65/120\n",
      "49/49 [==============================] - 0s 1ms/step - loss: 0.3009 - mean_squared_error: 0.2796 - val_loss: 1.2753 - val_mean_squared_error: 1.2537\n",
      "Epoch 66/120\n",
      "49/49 [==============================] - 0s 1ms/step - loss: 0.3048 - mean_squared_error: 0.2840 - val_loss: 1.2919 - val_mean_squared_error: 1.2700\n",
      "Epoch 67/120\n",
      "49/49 [==============================] - 0s 1ms/step - loss: 0.3052 - mean_squared_error: 0.2838 - val_loss: 1.2679 - val_mean_squared_error: 1.2476\n",
      "Epoch 68/120\n",
      "49/49 [==============================] - 0s 1ms/step - loss: 0.3041 - mean_squared_error: 0.2838 - val_loss: 1.2990 - val_mean_squared_error: 1.2765\n",
      "Epoch 69/120\n",
      "49/49 [==============================] - 0s 1ms/step - loss: 0.3083 - mean_squared_error: 0.2830 - val_loss: 1.2816 - val_mean_squared_error: 1.2563\n",
      "Epoch 70/120\n",
      "49/49 [==============================] - 0s 1ms/step - loss: 0.3075 - mean_squared_error: 0.2819 - val_loss: 1.2616 - val_mean_squared_error: 1.2397\n",
      "Epoch 71/120\n",
      "49/49 [==============================] - 0s 1ms/step - loss: 0.3112 - mean_squared_error: 0.2880 - val_loss: 1.3265 - val_mean_squared_error: 1.2985\n",
      "Epoch 72/120\n",
      "49/49 [==============================] - 0s 1ms/step - loss: 0.3100 - mean_squared_error: 0.2816 - val_loss: 1.2708 - val_mean_squared_error: 1.2446\n",
      "Epoch 73/120\n",
      "49/49 [==============================] - 0s 1ms/step - loss: 0.3072 - mean_squared_error: 0.2833 - val_loss: 1.2551 - val_mean_squared_error: 1.2344\n",
      "Epoch 74/120\n",
      "49/49 [==============================] - 0s 1ms/step - loss: 0.2995 - mean_squared_error: 0.2795 - val_loss: 1.2826 - val_mean_squared_error: 1.2623\n",
      "Epoch 75/120\n",
      "49/49 [==============================] - 0s 1ms/step - loss: 0.3057 - mean_squared_error: 0.2849 - val_loss: 1.2733 - val_mean_squared_error: 1.2516\n",
      "Epoch 76/120\n",
      "49/49 [==============================] - 0s 1ms/step - loss: 0.3127 - mean_squared_error: 0.2899 - val_loss: 1.3022 - val_mean_squared_error: 1.2754\n",
      "Epoch 77/120\n",
      "49/49 [==============================] - 0s 1ms/step - loss: 0.3124 - mean_squared_error: 0.2836 - val_loss: 1.2994 - val_mean_squared_error: 1.2726\n",
      "Epoch 78/120\n",
      "49/49 [==============================] - 0s 1ms/step - loss: 0.3024 - mean_squared_error: 0.2780 - val_loss: 1.2616 - val_mean_squared_error: 1.2398\n",
      "Epoch 79/120\n",
      "49/49 [==============================] - 0s 1ms/step - loss: 0.3032 - mean_squared_error: 0.2807 - val_loss: 1.2652 - val_mean_squared_error: 1.2439\n",
      "Epoch 80/120\n",
      "49/49 [==============================] - 0s 1ms/step - loss: 0.3093 - mean_squared_error: 0.2876 - val_loss: 1.3062 - val_mean_squared_error: 1.2844\n",
      "Epoch 81/120\n",
      "49/49 [==============================] - 0s 1ms/step - loss: 0.3111 - mean_squared_error: 0.2867 - val_loss: 1.3161 - val_mean_squared_error: 1.2914\n",
      "Epoch 82/120\n",
      "49/49 [==============================] - 0s 1ms/step - loss: 0.3089 - mean_squared_error: 0.2853 - val_loss: 1.2951 - val_mean_squared_error: 1.2728\n",
      "Epoch 83/120\n",
      "49/49 [==============================] - 0s 1ms/step - loss: 0.2993 - mean_squared_error: 0.2784 - val_loss: 1.2647 - val_mean_squared_error: 1.2448\n",
      "Epoch 84/120\n",
      "49/49 [==============================] - 0s 1ms/step - loss: 0.2999 - mean_squared_error: 0.2800 - val_loss: 1.2787 - val_mean_squared_error: 1.2589\n",
      "Epoch 85/120\n",
      "49/49 [==============================] - 0s 1ms/step - loss: 0.2986 - mean_squared_error: 0.2791 - val_loss: 1.2755 - val_mean_squared_error: 1.2560\n",
      "Epoch 86/120\n",
      "49/49 [==============================] - 0s 1ms/step - loss: 0.2999 - mean_squared_error: 0.2804 - val_loss: 1.3116 - val_mean_squared_error: 1.2910\n",
      "Epoch 87/120\n",
      "49/49 [==============================] - 0s 1ms/step - loss: 0.3006 - mean_squared_error: 0.2813 - val_loss: 1.2685 - val_mean_squared_error: 1.2486\n",
      "Epoch 88/120\n"
     ]
    },
    {
     "name": "stdout",
     "output_type": "stream",
     "text": [
      "49/49 [==============================] - 0s 1ms/step - loss: 0.2992 - mean_squared_error: 0.2796 - val_loss: 1.2626 - val_mean_squared_error: 1.2436\n",
      "Epoch 89/120\n",
      "49/49 [==============================] - 0s 1ms/step - loss: 0.2998 - mean_squared_error: 0.2808 - val_loss: 1.2699 - val_mean_squared_error: 1.2503\n",
      "Epoch 90/120\n",
      "49/49 [==============================] - 0s 1ms/step - loss: 0.3016 - mean_squared_error: 0.2819 - val_loss: 1.2734 - val_mean_squared_error: 1.2546\n",
      "Epoch 91/120\n",
      "49/49 [==============================] - 0s 1ms/step - loss: 0.3020 - mean_squared_error: 0.2823 - val_loss: 1.2709 - val_mean_squared_error: 1.2519\n",
      "Epoch 92/120\n",
      "49/49 [==============================] - 0s 1ms/step - loss: 0.3080 - mean_squared_error: 0.2875 - val_loss: 1.2623 - val_mean_squared_error: 1.2428\n",
      "Epoch 93/120\n",
      "49/49 [==============================] - 0s 1ms/step - loss: 0.3043 - mean_squared_error: 0.2831 - val_loss: 1.3140 - val_mean_squared_error: 1.2878\n",
      "Epoch 94/120\n",
      "49/49 [==============================] - 0s 1ms/step - loss: 0.3060 - mean_squared_error: 0.2814 - val_loss: 1.2812 - val_mean_squared_error: 1.2591\n",
      "Epoch 95/120\n",
      "49/49 [==============================] - 0s 1ms/step - loss: 0.3012 - mean_squared_error: 0.2798 - val_loss: 1.2555 - val_mean_squared_error: 1.2351\n",
      "Epoch 96/120\n",
      "49/49 [==============================] - 0s 1ms/step - loss: 0.3063 - mean_squared_error: 0.2857 - val_loss: 1.2690 - val_mean_squared_error: 1.2469\n",
      "Epoch 97/120\n",
      "49/49 [==============================] - 0s 1ms/step - loss: 0.3096 - mean_squared_error: 0.2815 - val_loss: 1.2640 - val_mean_squared_error: 1.2411\n",
      "Epoch 98/120\n",
      "49/49 [==============================] - 0s 1ms/step - loss: 0.3035 - mean_squared_error: 0.2823 - val_loss: 1.2361 - val_mean_squared_error: 1.2163\n",
      "Epoch 99/120\n",
      "49/49 [==============================] - 0s 1ms/step - loss: 0.3079 - mean_squared_error: 0.2857 - val_loss: 1.2619 - val_mean_squared_error: 1.2404\n",
      "Epoch 100/120\n",
      "49/49 [==============================] - 0s 973us/step - loss: 0.3047 - mean_squared_error: 0.2837 - val_loss: 1.2952 - val_mean_squared_error: 1.2717\n",
      "Epoch 101/120\n",
      "49/49 [==============================] - 0s 989us/step - loss: 0.3048 - mean_squared_error: 0.2815 - val_loss: 1.2728 - val_mean_squared_error: 1.2500\n",
      "Epoch 102/120\n",
      "49/49 [==============================] - 0s 1ms/step - loss: 0.3044 - mean_squared_error: 0.2799 - val_loss: 1.2693 - val_mean_squared_error: 1.2470\n",
      "Epoch 103/120\n",
      "49/49 [==============================] - 0s 1ms/step - loss: 0.3011 - mean_squared_error: 0.2803 - val_loss: 1.2824 - val_mean_squared_error: 1.2625\n",
      "Epoch 104/120\n",
      "49/49 [==============================] - 0s 1ms/step - loss: 0.3002 - mean_squared_error: 0.2811 - val_loss: 1.2749 - val_mean_squared_error: 1.2563\n",
      "Epoch 105/120\n",
      "49/49 [==============================] - 0s 1ms/step - loss: 0.3014 - mean_squared_error: 0.2825 - val_loss: 1.2715 - val_mean_squared_error: 1.2524\n",
      "Epoch 106/120\n",
      "49/49 [==============================] - 0s 1ms/step - loss: 0.2988 - mean_squared_error: 0.2802 - val_loss: 1.2805 - val_mean_squared_error: 1.2612\n",
      "Epoch 107/120\n",
      "49/49 [==============================] - 0s 1ms/step - loss: 0.3003 - mean_squared_error: 0.2814 - val_loss: 1.2354 - val_mean_squared_error: 1.2164\n",
      "Epoch 108/120\n",
      "49/49 [==============================] - 0s 1ms/step - loss: 0.3002 - mean_squared_error: 0.2809 - val_loss: 1.3017 - val_mean_squared_error: 1.2819\n",
      "Epoch 109/120\n",
      "49/49 [==============================] - 0s 1ms/step - loss: 0.3026 - mean_squared_error: 0.2831 - val_loss: 1.2511 - val_mean_squared_error: 1.2336\n",
      "Epoch 110/120\n",
      "49/49 [==============================] - 0s 1ms/step - loss: 0.3075 - mean_squared_error: 0.2890 - val_loss: 1.2966 - val_mean_squared_error: 1.2755\n",
      "Epoch 111/120\n",
      "49/49 [==============================] - 0s 1ms/step - loss: 0.2982 - mean_squared_error: 0.2783 - val_loss: 1.2662 - val_mean_squared_error: 1.2472\n",
      "Epoch 112/120\n",
      "49/49 [==============================] - 0s 1ms/step - loss: 0.2988 - mean_squared_error: 0.2795 - val_loss: 1.2659 - val_mean_squared_error: 1.2469\n",
      "Epoch 113/120\n",
      "49/49 [==============================] - 0s 1ms/step - loss: 0.2993 - mean_squared_error: 0.2808 - val_loss: 1.2599 - val_mean_squared_error: 1.2417\n",
      "Epoch 114/120\n",
      "49/49 [==============================] - 0s 1ms/step - loss: 0.3032 - mean_squared_error: 0.2846 - val_loss: 1.3048 - val_mean_squared_error: 1.2846\n",
      "Epoch 115/120\n",
      "49/49 [==============================] - 0s 1ms/step - loss: 0.3099 - mean_squared_error: 0.2856 - val_loss: 1.2859 - val_mean_squared_error: 1.2584\n",
      "Epoch 116/120\n",
      "49/49 [==============================] - 0s 1ms/step - loss: 0.3105 - mean_squared_error: 0.2833 - val_loss: 1.3174 - val_mean_squared_error: 1.2846\n",
      "Epoch 117/120\n",
      "49/49 [==============================] - 0s 1ms/step - loss: 0.3218 - mean_squared_error: 0.2907 - val_loss: 1.2820 - val_mean_squared_error: 1.2543\n",
      "Epoch 118/120\n",
      "49/49 [==============================] - 0s 1ms/step - loss: 0.3058 - mean_squared_error: 0.2840 - val_loss: 1.2551 - val_mean_squared_error: 1.2361\n",
      "Epoch 119/120\n",
      "49/49 [==============================] - 0s 1ms/step - loss: 0.2986 - mean_squared_error: 0.2784 - val_loss: 1.3025 - val_mean_squared_error: 1.2823\n",
      "Epoch 120/120\n",
      "49/49 [==============================] - 0s 1ms/step - loss: 0.2999 - mean_squared_error: 0.2816 - val_loss: 1.2727 - val_mean_squared_error: 1.2542\n"
     ]
    }
   ],
   "source": [
    "#Creating Tensorflow Keras Model using only nurmeric features\n",
    "\n",
    "regularizer=tf.keras.regularizers.L1L2(l1 = 0.01, l2=0.02)\n",
    "\n",
    "model = tf.keras.Sequential([\n",
    "    feature_layer,\n",
    "    layers.Dense(7, activation='tanh', kernel_regularizer=regularizer),\n",
    "    layers.Dense(14, activation='tanh', kernel_regularizer=regularizer),\n",
    "    layers.Dense(1, activation='tanh'),\n",
    "])\n",
    "\n",
    "optimizer = tf.keras.optimizers.Adam(\n",
    "    learning_rate=0.01)\n",
    "\n",
    "model.compile(optimizer=optimizer,\n",
    "              loss=tf.keras.losses.MeanSquaredError(name='mean_squared_error'),\n",
    "              metrics=['mean_squared_error'])\n",
    "\n",
    "history = model.fit(train_ds,\n",
    "          validation_data=val_ds,\n",
    "          epochs=120)"
   ]
  },
  {
   "cell_type": "code",
   "execution_count": 10,
   "id": "69b87bde",
   "metadata": {},
   "outputs": [
    {
     "data": {
      "image/png": "[encoded data removed]",
      "text/plain": [
       "<Figure size 720x576 with 1 Axes>"
      ]
     },
     "metadata": {
      "needs_background": "light"
     },
     "output_type": "display_data"
    }
   ],
   "source": [
    "#Plotting loss to epochs function using matplotlib\n",
    "\n",
    "def plot_loss(history):\n",
    "    plt.figure(figsize=(10,8))\n",
    "    plt.plot(history.history['loss'], label='loss')\n",
    "    plt.plot(history.history['val_loss'], label='val_loss')\n",
    "    plt.ylim([0, 2])\n",
    "    plt.xlabel('Epoch')\n",
    "    plt.ylabel('Error [mse]')\n",
    "    plt.legend()\n",
    "    plt.grid(True)\n",
    "\n",
    "plot_loss(history)"
   ]
  },
  {
   "cell_type": "code",
   "execution_count": 75,
   "id": "e4b87874",
   "metadata": {},
   "outputs": [
    {
     "name": "stdout",
     "output_type": "stream",
     "text": [
      "WARNING:tensorflow:Layers in a Sequential model should only have a single input tensor, but we receive a <class 'dict'> input: {'OverallQual': <tf.Tensor 'ExpandDims_4:0' shape=(None, 1) dtype=float64>, 'GrLivArea': <tf.Tensor 'ExpandDims_3:0' shape=(None, 1) dtype=float64>, 'GarageCars': <tf.Tensor 'ExpandDims_2:0' shape=(None, 1) dtype=float64>, '1stFlrSF': <tf.Tensor 'ExpandDims:0' shape=(None, 1) dtype=float64>, 'TotalBsmtSF': <tf.Tensor 'ExpandDims_5:0' shape=(None, 1) dtype=float64>, 'FullBath': <tf.Tensor 'ExpandDims_1:0' shape=(None, 1) dtype=float64>, 'YearBuilt': <tf.Tensor 'ExpandDims_6:0' shape=(None, 1) dtype=float64>}\n",
      "Consider rewriting this model with the Functional API.\n"
     ]
    },
    {
     "data": {
      "text/plain": [
       "1459"
      ]
     },
     "execution_count": 75,
     "metadata": {},
     "output_type": "execute_result"
    }
   ],
   "source": [
    "#Making predictions using first model and comparing first 10 positions\n",
    "test=test_df[['OverallQual', 'GrLivArea', 'GarageCars', '1stFlrSF', 'TotalBsmtSF', 'FullBath', 'YearBuilt']].copy()\n",
    "test = standardize(test, ['OverallQual', 'GrLivArea', 'GarageCars', '1stFlrSF', 'TotalBsmtSF', 'FullBath', 'YearBuilt'])\n",
    "\n",
    "predicts = model.predict(dict(test))\n",
    "\n",
    "predicts = predicts * train_df['SalePrice'].std() + train_df['SalePrice'].mean()\n",
    "predicts.size"
   ]
  },
  {
   "cell_type": "code",
   "execution_count": 60,
   "id": "3c174e46",
   "metadata": {},
   "outputs": [
    {
     "data": {
      "application/vnd.plotly.v1+json": {
       "config": {
        "plotlyServerURL": "https://plot.ly"
       },
       "data": [
        {
         "hovertemplate": "=loss<br>Epochs=%{x}<br>Loss Value=%{y}<extra></extra>",
         "legendgroup": "loss",
         "line": {
          "color": "#636efa",
          "dash": "solid"
         },
         "marker": {
          "symbol": "circle"
         },
         "mode": "lines",
         "name": "loss",
         "orientation": "v",
         "showlegend": true,
         "type": "scatter",
         "x": [
          0,
          1,
          2,
          3,
          4,
          5,
          6,
          7,
          8,
          9,
          10,
          11,
          12,
          13,
          14,
          15,
          16,
          17,
          18,
          19,
          20,
          21,
          22,
          23,
          24,
          25,
          26,
          27,
          28,
          29,
          30,
          31,
          32,
          33,
          34,
          35,
          36,
          37,
          38,
          39,
          40,
          41,
          42,
          43,
          44,
          45,
          46,
          47,
          48,
          49,
          50,
          51,
          52,
          53,
          54,
          55,
          56,
          57,
          58,
          59,
          60,
          61,
          62,
          63,
          64,
          65,
          66,
          67,
          68,
          69,
          70,
          71,
          72,
          73,
          74,
          75,
          76,
          77,
          78,
          79,
          80,
          81,
          82,
          83,
          84,
          85,
          86,
          87,
          88,
          89,
          90,
          91,
          92,
          93,
          94,
          95,
          96,
          97,
          98,
          99,
          100,
          101,
          102,
          103,
          104,
          105,
          106,
          107,
          108,
          109,
          110,
          111,
          112,
          113,
          114,
          115,
          116,
          117,
          118,
          119
         ],
         "xaxis": "x",
         "y": [
          2.09980845451355,
          1.2444896697998047,
          0.8096708655357361,
          0.6085189580917358,
          0.508898138999939,
          0.4521007537841797,
          0.41879597306251526,
          0.3965297043323517,
          0.3789416253566742,
          0.3662479519844055,
          0.3583860993385315,
          0.35092267394065857,
          0.3456181585788727,
          0.34083297848701477,
          0.33630093932151794,
          0.33627620339393616,
          0.3288562595844269,
          0.3282868266105652,
          0.3311432898044586,
          0.3289957344532013,
          0.32694241404533386,
          0.3248879611492157,
          0.32512813806533813,
          0.3243872821331024,
          0.3285563290119171,
          0.32913532853126526,
          0.3207712769508362,
          0.3224097192287445,
          0.31978726387023926,
          0.3188002407550812,
          0.31976020336151123,
          0.3188205063343048,
          0.3188886344432831,
          0.3208285868167877,
          0.31742361187934875,
          0.31576377153396606,
          0.31302931904792786,
          0.3169092535972595,
          0.3174257278442383,
          0.3165678083896637,
          0.31595146656036377,
          0.3152356743812561,
          0.3124309480190277,
          0.3113326132297516,
          0.31927794218063354,
          0.31413179636001587,
          0.3097902536392212,
          0.3106417953968048,
          0.3110553026199341,
          0.3140287399291992,
          0.3124215006828308,
          0.30871373414993286,
          0.3105543255805969,
          0.3086993992328644,
          0.3065071105957031,
          0.31188759207725525,
          0.3058869540691376,
          0.30627816915512085,
          0.3044247031211853,
          0.3046633303165436,
          0.3073292374610901,
          0.3037356436252594,
          0.3052537143230438,
          0.30336862802505493,
          0.30763474106788635,
          0.30588826537132263,
          0.303585022687912,
          0.3011412024497986,
          0.30556586384773254,
          0.3024316132068634,
          0.30058932304382324,
          0.30718958377838135,
          0.3082358241081238,
          0.3070700764656067,
          0.30245843529701233,
          0.30300310254096985,
          0.3028222918510437,
          0.3038926124572754,
          0.3018229603767395,
          0.3011414408683777,
          0.30089521408081055,
          0.3008742034435272,
          0.30101966857910156,
          0.3042655885219574,
          0.30208081007003784,
          0.2998928725719452,
          0.3007536828517914,
          0.3059023916721344,
          0.31300827860832214,
          0.3032604455947876,
          0.3016839921474457,
          0.30338916182518005,
          0.30095505714416504,
          0.29843848943710327,
          0.30259841680526733,
          0.3025710880756378,
          0.3009175956249237,
          0.30465009808540344,
          0.30273523926734924,
          0.2988227307796478,
          0.3005921542644501,
          0.3006434738636017,
          0.29970452189445496,
          0.2993695139884949,
          0.2992761433124542,
          0.2983986437320709,
          0.297580748796463,
          0.29686811566352844,
          0.29658520221710205,
          0.30184507369995117,
          0.29856330156326294,
          0.29594510793685913,
          0.2975849211215973,
          0.30591684579849243,
          0.30178403854370117,
          0.2971954047679901,
          0.2976517081260681,
          0.299538791179657,
          0.2984713613986969,
          0.2959402799606323
         ],
         "yaxis": "y"
        },
        {
         "hovertemplate": "=val_loss<br>Epochs=%{x}<br>Loss Value=%{y}<extra></extra>",
         "legendgroup": "val_loss",
         "line": {
          "color": "#EF553B",
          "dash": "solid"
         },
         "marker": {
          "symbol": "circle"
         },
         "mode": "lines",
         "name": "val_loss",
         "orientation": "v",
         "showlegend": true,
         "type": "scatter",
         "x": [
          0,
          1,
          2,
          3,
          4,
          5,
          6,
          7,
          8,
          9,
          10,
          11,
          12,
          13,
          14,
          15,
          16,
          17,
          18,
          19,
          20,
          21,
          22,
          23,
          24,
          25,
          26,
          27,
          28,
          29,
          30,
          31,
          32,
          33,
          34,
          35,
          36,
          37,
          38,
          39,
          40,
          41,
          42,
          43,
          44,
          45,
          46,
          47,
          48,
          49,
          50,
          51,
          52,
          53,
          54,
          55,
          56,
          57,
          58,
          59,
          60,
          61,
          62,
          63,
          64,
          65,
          66,
          67,
          68,
          69,
          70,
          71,
          72,
          73,
          74,
          75,
          76,
          77,
          78,
          79,
          80,
          81,
          82,
          83,
          84,
          85,
          86,
          87,
          88,
          89,
          90,
          91,
          92,
          93,
          94,
          95,
          96,
          97,
          98,
          99,
          100,
          101,
          102,
          103,
          104,
          105,
          106,
          107,
          108,
          109,
          110,
          111,
          112,
          113,
          114,
          115,
          116,
          117,
          118,
          119
         ],
         "xaxis": "x",
         "y": [
          1.6164783239364624,
          0.9974761009216309,
          0.724995493888855,
          0.5858125686645508,
          0.5186362266540527,
          0.47483283281326294,
          0.4453500807285309,
          0.4266497492790222,
          0.4129584729671478,
          0.4004646837711334,
          0.39911437034606934,
          0.3856276571750641,
          0.3825347125530243,
          0.37790507078170776,
          0.3734535276889801,
          0.3714124262332916,
          0.37685441970825195,
          0.37773415446281433,
          0.3728233277797699,
          0.3677377700805664,
          0.3656613528728485,
          0.3662792146205902,
          0.3622395992279053,
          0.368395060300827,
          0.3633308708667755,
          0.36081066727638245,
          0.36919280886650085,
          0.36356067657470703,
          0.3611573278903961,
          0.35728850960731506,
          0.3573102653026581,
          0.3573448657989502,
          0.3568354845046997,
          0.3573386073112488,
          0.35396769642829895,
          0.3539615869522095,
          0.3517690598964691,
          0.35779112577438354,
          0.3526459336280823,
          0.35524556040763855,
          0.35444092750549316,
          0.35885846614837646,
          0.3518625497817993,
          0.3608262240886688,
          0.35203367471694946,
          0.3491559326648712,
          0.34878191351890564,
          0.3529747724533081,
          0.34995827078819275,
          0.35155612230300903,
          0.34936848282814026,
          0.3563218414783478,
          0.3500860035419464,
          0.34758540987968445,
          0.3645172417163849,
          0.34969836473464966,
          0.3552398979663849,
          0.34789353609085083,
          0.346171498298645,
          0.35043689608573914,
          0.34633269906044006,
          0.35470259189605713,
          0.34338220953941345,
          0.3462957739830017,
          0.3427565395832062,
          0.34621214866638184,
          0.342377632856369,
          0.341413676738739,
          0.3432176411151886,
          0.3457108736038208,
          0.35566338896751404,
          0.3657917082309723,
          0.347665399312973,
          0.3471975326538086,
          0.3401404619216919,
          0.34582284092903137,
          0.35325366258621216,
          0.3442469835281372,
          0.3426397144794464,
          0.34104984998703003,
          0.33846068382263184,
          0.3463170826435089,
          0.3460164964199066,
          0.33996880054473877,
          0.3416149616241455,
          0.3428627848625183,
          0.3431837260723114,
          0.3526638150215149,
          0.3515411615371704,
          0.35486534237861633,
          0.3467438817024231,
          0.34154370427131653,
          0.33762550354003906,
          0.3371029198169708,
          0.375055193901062,
          0.3379631042480469,
          0.3376714587211609,
          0.3459576368331909,
          0.33737215399742126,
          0.3363778591156006,
          0.3415835499763489,
          0.3480514883995056,
          0.3367256820201874,
          0.34139108657836914,
          0.340265691280365,
          0.33576053380966187,
          0.33908987045288086,
          0.33880916237831116,
          0.3366868495941162,
          0.3454565107822418,
          0.3400105834007263,
          0.3362707197666168,
          0.33565056324005127,
          0.34787964820861816,
          0.34959545731544495,
          0.3412744998931885,
          0.3392848074436188,
          0.342945396900177,
          0.34023699164390564,
          0.3354928493499756
         ],
         "yaxis": "y"
        }
       ],
       "layout": {
        "legend": {
         "title": {
          "text": ""
         },
         "tracegroupgap": 0
        },
        "margin": {
         "t": 60
        },
        "template": {
         "data": {
          "bar": [
           {
            "error_x": {
             "color": "#2a3f5f"
            },
            "error_y": {
             "color": "#2a3f5f"
            },
            "marker": {
             "line": {
              "color": "#E5ECF6",
              "width": 0.5
             },
             "pattern": {
              "fillmode": "overlay",
              "size": 10,
              "solidity": 0.2
             }
            },
            "type": "bar"
           }
          ],
          "barpolar": [
           {
            "marker": {
             "line": {
              "color": "#E5ECF6",
              "width": 0.5
             },
             "pattern": {
              "fillmode": "overlay",
              "size": 10,
              "solidity": 0.2
             }
            },
            "type": "barpolar"
           }
          ],
          "carpet": [
           {
            "aaxis": {
             "endlinecolor": "#2a3f5f",
             "gridcolor": "white",
             "linecolor": "white",
             "minorgridcolor": "white",
             "startlinecolor": "#2a3f5f"
            },
            "baxis": {
             "endlinecolor": "#2a3f5f",
             "gridcolor": "white",
             "linecolor": "white",
             "minorgridcolor": "white",
             "startlinecolor": "#2a3f5f"
            },
            "type": "carpet"
           }
          ],
          "choropleth": [
           {
            "colorbar": {
             "outlinewidth": 0,
             "ticks": ""
            },
            "type": "choropleth"
           }
          ],
          "contour": [
           {
            "colorbar": {
             "outlinewidth": 0,
             "ticks": ""
            },
            "colorscale": [
             [
              0,
              "#0d0887"
             ],
             [
              0.1111111111111111,
              "#46039f"
             ],
             [
              0.2222222222222222,
              "#7201a8"
             ],
             [
              0.3333333333333333,
              "#9c179e"
             ],
             [
              0.4444444444444444,
              "#bd3786"
             ],
             [
              0.5555555555555556,
              "#d8576b"
             ],
             [
              0.6666666666666666,
              "#ed7953"
             ],
             [
              0.7777777777777778,
              "#fb9f3a"
             ],
             [
              0.8888888888888888,
              "#fdca26"
             ],
             [
              1,
              "#f0f921"
             ]
            ],
            "type": "contour"
           }
          ],
          "contourcarpet": [
           {
            "colorbar": {
             "outlinewidth": 0,
             "ticks": ""
            },
            "type": "contourcarpet"
           }
          ],
          "heatmap": [
           {
            "colorbar": {
             "outlinewidth": 0,
             "ticks": ""
            },
            "colorscale": [
             [
              0,
              "#0d0887"
             ],
             [
              0.1111111111111111,
              "#46039f"
             ],
             [
              0.2222222222222222,
              "#7201a8"
             ],
             [
              0.3333333333333333,
              "#9c179e"
             ],
             [
              0.4444444444444444,
              "#bd3786"
             ],
             [
              0.5555555555555556,
              "#d8576b"
             ],
             [
              0.6666666666666666,
              "#ed7953"
             ],
             [
              0.7777777777777778,
              "#fb9f3a"
             ],
             [
              0.8888888888888888,
              "#fdca26"
             ],
             [
              1,
              "#f0f921"
             ]
            ],
            "type": "heatmap"
           }
          ],
          "heatmapgl": [
           {
            "colorbar": {
             "outlinewidth": 0,
             "ticks": ""
            },
            "colorscale": [
             [
              0,
              "#0d0887"
             ],
             [
              0.1111111111111111,
              "#46039f"
             ],
             [
              0.2222222222222222,
              "#7201a8"
             ],
             [
              0.3333333333333333,
              "#9c179e"
             ],
             [
              0.4444444444444444,
              "#bd3786"
             ],
             [
              0.5555555555555556,
              "#d8576b"
             ],
             [
              0.6666666666666666,
              "#ed7953"
             ],
             [
              0.7777777777777778,
              "#fb9f3a"
             ],
             [
              0.8888888888888888,
              "#fdca26"
             ],
             [
              1,
              "#f0f921"
             ]
            ],
            "type": "heatmapgl"
           }
          ],
          "histogram": [
           {
            "marker": {
             "pattern": {
              "fillmode": "overlay",
              "size": 10,
              "solidity": 0.2
             }
            },
            "type": "histogram"
           }
          ],
          "histogram2d": [
           {
            "colorbar": {
             "outlinewidth": 0,
             "ticks": ""
            },
            "colorscale": [
             [
              0,
              "#0d0887"
             ],
             [
              0.1111111111111111,
              "#46039f"
             ],
             [
              0.2222222222222222,
              "#7201a8"
             ],
             [
              0.3333333333333333,
              "#9c179e"
             ],
             [
              0.4444444444444444,
              "#bd3786"
             ],
             [
              0.5555555555555556,
              "#d8576b"
             ],
             [
              0.6666666666666666,
              "#ed7953"
             ],
             [
              0.7777777777777778,
              "#fb9f3a"
             ],
             [
              0.8888888888888888,
              "#fdca26"
             ],
             [
              1,
              "#f0f921"
             ]
            ],
            "type": "histogram2d"
           }
          ],
          "histogram2dcontour": [
           {
            "colorbar": {
             "outlinewidth": 0,
             "ticks": ""
            },
            "colorscale": [
             [
              0,
              "#0d0887"
             ],
             [
              0.1111111111111111,
              "#46039f"
             ],
             [
              0.2222222222222222,
              "#7201a8"
             ],
             [
              0.3333333333333333,
              "#9c179e"
             ],
             [
              0.4444444444444444,
              "#bd3786"
             ],
             [
              0.5555555555555556,
              "#d8576b"
             ],
             [
              0.6666666666666666,
              "#ed7953"
             ],
             [
              0.7777777777777778,
              "#fb9f3a"
             ],
             [
              0.8888888888888888,
              "#fdca26"
             ],
             [
              1,
              "#f0f921"
             ]
            ],
            "type": "histogram2dcontour"
           }
          ],
          "mesh3d": [
           {
            "colorbar": {
             "outlinewidth": 0,
             "ticks": ""
            },
            "type": "mesh3d"
           }
          ],
          "parcoords": [
           {
            "line": {
             "colorbar": {
              "outlinewidth": 0,
              "ticks": ""
             }
            },
            "type": "parcoords"
           }
          ],
          "pie": [
           {
            "automargin": true,
            "type": "pie"
           }
          ],
          "scatter": [
           {
            "marker": {
             "colorbar": {
              "outlinewidth": 0,
              "ticks": ""
             }
            },
            "type": "scatter"
           }
          ],
          "scatter3d": [
           {
            "line": {
             "colorbar": {
              "outlinewidth": 0,
              "ticks": ""
             }
            },
            "marker": {
             "colorbar": {
              "outlinewidth": 0,
              "ticks": ""
             }
            },
            "type": "scatter3d"
           }
          ],
          "scattercarpet": [
           {
            "marker": {
             "colorbar": {
              "outlinewidth": 0,
              "ticks": ""
             }
            },
            "type": "scattercarpet"
           }
          ],
          "scattergeo": [
           {
            "marker": {
             "colorbar": {
              "outlinewidth": 0,
              "ticks": ""
             }
            },
            "type": "scattergeo"
           }
          ],
          "scattergl": [
           {
            "marker": {
             "colorbar": {
              "outlinewidth": 0,
              "ticks": ""
             }
            },
            "type": "scattergl"
           }
          ],
          "scattermapbox": [
           {
            "marker": {
             "colorbar": {
              "outlinewidth": 0,
              "ticks": ""
             }
            },
            "type": "scattermapbox"
           }
          ],
          "scatterpolar": [
           {
            "marker": {
             "colorbar": {
              "outlinewidth": 0,
              "ticks": ""
             }
            },
            "type": "scatterpolar"
           }
          ],
          "scatterpolargl": [
           {
            "marker": {
             "colorbar": {
              "outlinewidth": 0,
              "ticks": ""
             }
            },
            "type": "scatterpolargl"
           }
          ],
          "scatterternary": [
           {
            "marker": {
             "colorbar": {
              "outlinewidth": 0,
              "ticks": ""
             }
            },
            "type": "scatterternary"
           }
          ],
          "surface": [
           {
            "colorbar": {
             "outlinewidth": 0,
             "ticks": ""
            },
            "colorscale": [
             [
              0,
              "#0d0887"
             ],
             [
              0.1111111111111111,
              "#46039f"
             ],
             [
              0.2222222222222222,
              "#7201a8"
             ],
             [
              0.3333333333333333,
              "#9c179e"
             ],
             [
              0.4444444444444444,
              "#bd3786"
             ],
             [
              0.5555555555555556,
              "#d8576b"
             ],
             [
              0.6666666666666666,
              "#ed7953"
             ],
             [
              0.7777777777777778,
              "#fb9f3a"
             ],
             [
              0.8888888888888888,
              "#fdca26"
             ],
             [
              1,
              "#f0f921"
             ]
            ],
            "type": "surface"
           }
          ],
          "table": [
           {
            "cells": {
             "fill": {
              "color": "#EBF0F8"
             },
             "line": {
              "color": "white"
             }
            },
            "header": {
             "fill": {
              "color": "#C8D4E3"
             },
             "line": {
              "color": "white"
             }
            },
            "type": "table"
           }
          ]
         },
         "layout": {
          "annotationdefaults": {
           "arrowcolor": "#2a3f5f",
           "arrowhead": 0,
           "arrowwidth": 1
          },
          "autotypenumbers": "strict",
          "coloraxis": {
           "colorbar": {
            "outlinewidth": 0,
            "ticks": ""
           }
          },
          "colorscale": {
           "diverging": [
            [
             0,
             "#8e0152"
            ],
            [
             0.1,
             "#c51b7d"
            ],
            [
             0.2,
             "#de77ae"
            ],
            [
             0.3,
             "#f1b6da"
            ],
            [
             0.4,
             "#fde0ef"
            ],
            [
             0.5,
             "#f7f7f7"
            ],
            [
             0.6,
             "#e6f5d0"
            ],
            [
             0.7,
             "#b8e186"
            ],
            [
             0.8,
             "#7fbc41"
            ],
            [
             0.9,
             "#4d9221"
            ],
            [
             1,
             "#276419"
            ]
           ],
           "sequential": [
            [
             0,
             "#0d0887"
            ],
            [
             0.1111111111111111,
             "#46039f"
            ],
            [
             0.2222222222222222,
             "#7201a8"
            ],
            [
             0.3333333333333333,
             "#9c179e"
            ],
            [
             0.4444444444444444,
             "#bd3786"
            ],
            [
             0.5555555555555556,
             "#d8576b"
            ],
            [
             0.6666666666666666,
             "#ed7953"
            ],
            [
             0.7777777777777778,
             "#fb9f3a"
            ],
            [
             0.8888888888888888,
             "#fdca26"
            ],
            [
             1,
             "#f0f921"
            ]
           ],
           "sequentialminus": [
            [
             0,
             "#0d0887"
            ],
            [
             0.1111111111111111,
             "#46039f"
            ],
            [
             0.2222222222222222,
             "#7201a8"
            ],
            [
             0.3333333333333333,
             "#9c179e"
            ],
            [
             0.4444444444444444,
             "#bd3786"
            ],
            [
             0.5555555555555556,
             "#d8576b"
            ],
            [
             0.6666666666666666,
             "#ed7953"
            ],
            [
             0.7777777777777778,
             "#fb9f3a"
            ],
            [
             0.8888888888888888,
             "#fdca26"
            ],
            [
             1,
             "#f0f921"
            ]
           ]
          },
          "colorway": [
           "#636efa",
           "#EF553B",
           "#00cc96",
           "#ab63fa",
           "#FFA15A",
           "#19d3f3",
           "#FF6692",
           "#B6E880",
           "#FF97FF",
           "#FECB52"
          ],
          "font": {
           "color": "#2a3f5f"
          },
          "geo": {
           "bgcolor": "white",
           "lakecolor": "white",
           "landcolor": "#E5ECF6",
           "showlakes": true,
           "showland": true,
           "subunitcolor": "white"
          },
          "hoverlabel": {
           "align": "left"
          },
          "hovermode": "closest",
          "mapbox": {
           "style": "light"
          },
          "paper_bgcolor": "white",
          "plot_bgcolor": "#E5ECF6",
          "polar": {
           "angularaxis": {
            "gridcolor": "white",
            "linecolor": "white",
            "ticks": ""
           },
           "bgcolor": "#E5ECF6",
           "radialaxis": {
            "gridcolor": "white",
            "linecolor": "white",
            "ticks": ""
           }
          },
          "scene": {
           "xaxis": {
            "backgroundcolor": "#E5ECF6",
            "gridcolor": "white",
            "gridwidth": 2,
            "linecolor": "white",
            "showbackground": true,
            "ticks": "",
            "zerolinecolor": "white"
           },
           "yaxis": {
            "backgroundcolor": "#E5ECF6",
            "gridcolor": "white",
            "gridwidth": 2,
            "linecolor": "white",
            "showbackground": true,
            "ticks": "",
            "zerolinecolor": "white"
           },
           "zaxis": {
            "backgroundcolor": "#E5ECF6",
            "gridcolor": "white",
            "gridwidth": 2,
            "linecolor": "white",
            "showbackground": true,
            "ticks": "",
            "zerolinecolor": "white"
           }
          },
          "shapedefaults": {
           "line": {
            "color": "#2a3f5f"
           }
          },
          "ternary": {
           "aaxis": {
            "gridcolor": "white",
            "linecolor": "white",
            "ticks": ""
           },
           "baxis": {
            "gridcolor": "white",
            "linecolor": "white",
            "ticks": ""
           },
           "bgcolor": "#E5ECF6",
           "caxis": {
            "gridcolor": "white",
            "linecolor": "white",
            "ticks": ""
           }
          },
          "title": {
           "x": 0.05
          },
          "xaxis": {
           "automargin": true,
           "gridcolor": "white",
           "linecolor": "white",
           "ticks": "",
           "title": {
            "standoff": 15
           },
           "zerolinecolor": "white",
           "zerolinewidth": 2
          },
          "yaxis": {
           "automargin": true,
           "gridcolor": "white",
           "linecolor": "white",
           "ticks": "",
           "title": {
            "standoff": 15
           },
           "zerolinecolor": "white",
           "zerolinewidth": 2
          }
         }
        },
        "xaxis": {
         "anchor": "y",
         "domain": [
          0,
          1
         ],
         "title": {
          "text": "Epochs"
         }
        },
        "yaxis": {
         "anchor": "x",
         "domain": [
          0,
          1
         ],
         "title": {
          "text": "Loss Value"
         }
        }
       }
      },
      "text/html": [
       "<div>                            <div id=\"1b2e8f7f-01de-40db-b0bd-74e2f9753eeb\" class=\"plotly-graph-div\" style=\"height:525px; width:100%;\"></div>            <script type=\"text/javascript\">                require([\"plotly\"], function(Plotly) {                    window.PLOTLYENV=window.PLOTLYENV || {};                                    if (document.getElementById(\"1b2e8f7f-01de-40db-b0bd-74e2f9753eeb\")) {                    Plotly.newPlot(                        \"1b2e8f7f-01de-40db-b0bd-74e2f9753eeb\",                        [{\"hovertemplate\":\"=loss<br>Epochs=%{x}<br>Loss Value=%{y}<extra></extra>\",\"legendgroup\":\"loss\",\"line\":{\"color\":\"#636efa\",\"dash\":\"solid\"},\"marker\":{\"symbol\":\"circle\"},\"mode\":\"lines\",\"name\":\"loss\",\"orientation\":\"v\",\"showlegend\":true,\"type\":\"scatter\",\"x\":[0,1,2,3,4,5,6,7,8,9,10,11,12,13,14,15,16,17,18,19,20,21,22,23,24,25,26,27,28,29,30,31,32,33,34,35,36,37,38,39,40,41,42,43,44,45,46,47,48,49,50,51,52,53,54,55,56,57,58,59,60,61,62,63,64,65,66,67,68,69,70,71,72,73,74,75,76,77,78,79,80,81,82,83,84,85,86,87,88,89,90,91,92,93,94,95,96,97,98,99,100,101,102,103,104,105,106,107,108,109,110,111,112,113,114,115,116,117,118,119],\"xaxis\":\"x\",\"y\":[2.09980845451355,1.2444896697998047,0.8096708655357361,0.6085189580917358,0.508898138999939,0.4521007537841797,0.41879597306251526,0.3965297043323517,0.3789416253566742,0.3662479519844055,0.3583860993385315,0.35092267394065857,0.3456181585788727,0.34083297848701477,0.33630093932151794,0.33627620339393616,0.3288562595844269,0.3282868266105652,0.3311432898044586,0.3289957344532013,0.32694241404533386,0.3248879611492157,0.32512813806533813,0.3243872821331024,0.3285563290119171,0.32913532853126526,0.3207712769508362,0.3224097192287445,0.31978726387023926,0.3188002407550812,0.31976020336151123,0.3188205063343048,0.3188886344432831,0.3208285868167877,0.31742361187934875,0.31576377153396606,0.31302931904792786,0.3169092535972595,0.3174257278442383,0.3165678083896637,0.31595146656036377,0.3152356743812561,0.3124309480190277,0.3113326132297516,0.31927794218063354,0.31413179636001587,0.3097902536392212,0.3106417953968048,0.3110553026199341,0.3140287399291992,0.3124215006828308,0.30871373414993286,0.3105543255805969,0.3086993992328644,0.3065071105957031,0.31188759207725525,0.3058869540691376,0.30627816915512085,0.3044247031211853,0.3046633303165436,0.3073292374610901,0.3037356436252594,0.3052537143230438,0.30336862802505493,0.30763474106788635,0.30588826537132263,0.303585022687912,0.3011412024497986,0.30556586384773254,0.3024316132068634,0.30058932304382324,0.30718958377838135,0.3082358241081238,0.3070700764656067,0.30245843529701233,0.30300310254096985,0.3028222918510437,0.3038926124572754,0.3018229603767395,0.3011414408683777,0.30089521408081055,0.3008742034435272,0.30101966857910156,0.3042655885219574,0.30208081007003784,0.2998928725719452,0.3007536828517914,0.3059023916721344,0.31300827860832214,0.3032604455947876,0.3016839921474457,0.30338916182518005,0.30095505714416504,0.29843848943710327,0.30259841680526733,0.3025710880756378,0.3009175956249237,0.30465009808540344,0.30273523926734924,0.2988227307796478,0.3005921542644501,0.3006434738636017,0.29970452189445496,0.2993695139884949,0.2992761433124542,0.2983986437320709,0.297580748796463,0.29686811566352844,0.29658520221710205,0.30184507369995117,0.29856330156326294,0.29594510793685913,0.2975849211215973,0.30591684579849243,0.30178403854370117,0.2971954047679901,0.2976517081260681,0.299538791179657,0.2984713613986969,0.2959402799606323],\"yaxis\":\"y\"},{\"hovertemplate\":\"=val_loss<br>Epochs=%{x}<br>Loss Value=%{y}<extra></extra>\",\"legendgroup\":\"val_loss\",\"line\":{\"color\":\"#EF553B\",\"dash\":\"solid\"},\"marker\":{\"symbol\":\"circle\"},\"mode\":\"lines\",\"name\":\"val_loss\",\"orientation\":\"v\",\"showlegend\":true,\"type\":\"scatter\",\"x\":[0,1,2,3,4,5,6,7,8,9,10,11,12,13,14,15,16,17,18,19,20,21,22,23,24,25,26,27,28,29,30,31,32,33,34,35,36,37,38,39,40,41,42,43,44,45,46,47,48,49,50,51,52,53,54,55,56,57,58,59,60,61,62,63,64,65,66,67,68,69,70,71,72,73,74,75,76,77,78,79,80,81,82,83,84,85,86,87,88,89,90,91,92,93,94,95,96,97,98,99,100,101,102,103,104,105,106,107,108,109,110,111,112,113,114,115,116,117,118,119],\"xaxis\":\"x\",\"y\":[1.6164783239364624,0.9974761009216309,0.724995493888855,0.5858125686645508,0.5186362266540527,0.47483283281326294,0.4453500807285309,0.4266497492790222,0.4129584729671478,0.4004646837711334,0.39911437034606934,0.3856276571750641,0.3825347125530243,0.37790507078170776,0.3734535276889801,0.3714124262332916,0.37685441970825195,0.37773415446281433,0.3728233277797699,0.3677377700805664,0.3656613528728485,0.3662792146205902,0.3622395992279053,0.368395060300827,0.3633308708667755,0.36081066727638245,0.36919280886650085,0.36356067657470703,0.3611573278903961,0.35728850960731506,0.3573102653026581,0.3573448657989502,0.3568354845046997,0.3573386073112488,0.35396769642829895,0.3539615869522095,0.3517690598964691,0.35779112577438354,0.3526459336280823,0.35524556040763855,0.35444092750549316,0.35885846614837646,0.3518625497817993,0.3608262240886688,0.35203367471694946,0.3491559326648712,0.34878191351890564,0.3529747724533081,0.34995827078819275,0.35155612230300903,0.34936848282814026,0.3563218414783478,0.3500860035419464,0.34758540987968445,0.3645172417163849,0.34969836473464966,0.3552398979663849,0.34789353609085083,0.346171498298645,0.35043689608573914,0.34633269906044006,0.35470259189605713,0.34338220953941345,0.3462957739830017,0.3427565395832062,0.34621214866638184,0.342377632856369,0.341413676738739,0.3432176411151886,0.3457108736038208,0.35566338896751404,0.3657917082309723,0.347665399312973,0.3471975326538086,0.3401404619216919,0.34582284092903137,0.35325366258621216,0.3442469835281372,0.3426397144794464,0.34104984998703003,0.33846068382263184,0.3463170826435089,0.3460164964199066,0.33996880054473877,0.3416149616241455,0.3428627848625183,0.3431837260723114,0.3526638150215149,0.3515411615371704,0.35486534237861633,0.3467438817024231,0.34154370427131653,0.33762550354003906,0.3371029198169708,0.375055193901062,0.3379631042480469,0.3376714587211609,0.3459576368331909,0.33737215399742126,0.3363778591156006,0.3415835499763489,0.3480514883995056,0.3367256820201874,0.34139108657836914,0.340265691280365,0.33576053380966187,0.33908987045288086,0.33880916237831116,0.3366868495941162,0.3454565107822418,0.3400105834007263,0.3362707197666168,0.33565056324005127,0.34787964820861816,0.34959545731544495,0.3412744998931885,0.3392848074436188,0.342945396900177,0.34023699164390564,0.3354928493499756],\"yaxis\":\"y\"}],                        {\"legend\":{\"title\":{\"text\":\"\"},\"tracegroupgap\":0},\"margin\":{\"t\":60},\"template\":{\"data\":{\"bar\":[{\"error_x\":{\"color\":\"#2a3f5f\"},\"error_y\":{\"color\":\"#2a3f5f\"},\"marker\":{\"line\":{\"color\":\"#E5ECF6\",\"width\":0.5},\"pattern\":{\"fillmode\":\"overlay\",\"size\":10,\"solidity\":0.2}},\"type\":\"bar\"}],\"barpolar\":[{\"marker\":{\"line\":{\"color\":\"#E5ECF6\",\"width\":0.5},\"pattern\":{\"fillmode\":\"overlay\",\"size\":10,\"solidity\":0.2}},\"type\":\"barpolar\"}],\"carpet\":[{\"aaxis\":{\"endlinecolor\":\"#2a3f5f\",\"gridcolor\":\"white\",\"linecolor\":\"white\",\"minorgridcolor\":\"white\",\"startlinecolor\":\"#2a3f5f\"},\"baxis\":{\"endlinecolor\":\"#2a3f5f\",\"gridcolor\":\"white\",\"linecolor\":\"white\",\"minorgridcolor\":\"white\",\"startlinecolor\":\"#2a3f5f\"},\"type\":\"carpet\"}],\"choropleth\":[{\"colorbar\":{\"outlinewidth\":0,\"ticks\":\"\"},\"type\":\"choropleth\"}],\"contour\":[{\"colorbar\":{\"outlinewidth\":0,\"ticks\":\"\"},\"colorscale\":[[0.0,\"#0d0887\"],[0.1111111111111111,\"#46039f\"],[0.2222222222222222,\"#7201a8\"],[0.3333333333333333,\"#9c179e\"],[0.4444444444444444,\"#bd3786\"],[0.5555555555555556,\"#d8576b\"],[0.6666666666666666,\"#ed7953\"],[0.7777777777777778,\"#fb9f3a\"],[0.8888888888888888,\"#fdca26\"],[1.0,\"#f0f921\"]],\"type\":\"contour\"}],\"contourcarpet\":[{\"colorbar\":{\"outlinewidth\":0,\"ticks\":\"\"},\"type\":\"contourcarpet\"}],\"heatmap\":[{\"colorbar\":{\"outlinewidth\":0,\"ticks\":\"\"},\"colorscale\":[[0.0,\"#0d0887\"],[0.1111111111111111,\"#46039f\"],[0.2222222222222222,\"#7201a8\"],[0.3333333333333333,\"#9c179e\"],[0.4444444444444444,\"#bd3786\"],[0.5555555555555556,\"#d8576b\"],[0.6666666666666666,\"#ed7953\"],[0.7777777777777778,\"#fb9f3a\"],[0.8888888888888888,\"#fdca26\"],[1.0,\"#f0f921\"]],\"type\":\"heatmap\"}],\"heatmapgl\":[{\"colorbar\":{\"outlinewidth\":0,\"ticks\":\"\"},\"colorscale\":[[0.0,\"#0d0887\"],[0.1111111111111111,\"#46039f\"],[0.2222222222222222,\"#7201a8\"],[0.3333333333333333,\"#9c179e\"],[0.4444444444444444,\"#bd3786\"],[0.5555555555555556,\"#d8576b\"],[0.6666666666666666,\"#ed7953\"],[0.7777777777777778,\"#fb9f3a\"],[0.8888888888888888,\"#fdca26\"],[1.0,\"#f0f921\"]],\"type\":\"heatmapgl\"}],\"histogram\":[{\"marker\":{\"pattern\":{\"fillmode\":\"overlay\",\"size\":10,\"solidity\":0.2}},\"type\":\"histogram\"}],\"histogram2d\":[{\"colorbar\":{\"outlinewidth\":0,\"ticks\":\"\"},\"colorscale\":[[0.0,\"#0d0887\"],[0.1111111111111111,\"#46039f\"],[0.2222222222222222,\"#7201a8\"],[0.3333333333333333,\"#9c179e\"],[0.4444444444444444,\"#bd3786\"],[0.5555555555555556,\"#d8576b\"],[0.6666666666666666,\"#ed7953\"],[0.7777777777777778,\"#fb9f3a\"],[0.8888888888888888,\"#fdca26\"],[1.0,\"#f0f921\"]],\"type\":\"histogram2d\"}],\"histogram2dcontour\":[{\"colorbar\":{\"outlinewidth\":0,\"ticks\":\"\"},\"colorscale\":[[0.0,\"#0d0887\"],[0.1111111111111111,\"#46039f\"],[0.2222222222222222,\"#7201a8\"],[0.3333333333333333,\"#9c179e\"],[0.4444444444444444,\"#bd3786\"],[0.5555555555555556,\"#d8576b\"],[0.6666666666666666,\"#ed7953\"],[0.7777777777777778,\"#fb9f3a\"],[0.8888888888888888,\"#fdca26\"],[1.0,\"#f0f921\"]],\"type\":\"histogram2dcontour\"}],\"mesh3d\":[{\"colorbar\":{\"outlinewidth\":0,\"ticks\":\"\"},\"type\":\"mesh3d\"}],\"parcoords\":[{\"line\":{\"colorbar\":{\"outlinewidth\":0,\"ticks\":\"\"}},\"type\":\"parcoords\"}],\"pie\":[{\"automargin\":true,\"type\":\"pie\"}],\"scatter\":[{\"marker\":{\"colorbar\":{\"outlinewidth\":0,\"ticks\":\"\"}},\"type\":\"scatter\"}],\"scatter3d\":[{\"line\":{\"colorbar\":{\"outlinewidth\":0,\"ticks\":\"\"}},\"marker\":{\"colorbar\":{\"outlinewidth\":0,\"ticks\":\"\"}},\"type\":\"scatter3d\"}],\"scattercarpet\":[{\"marker\":{\"colorbar\":{\"outlinewidth\":0,\"ticks\":\"\"}},\"type\":\"scattercarpet\"}],\"scattergeo\":[{\"marker\":{\"colorbar\":{\"outlinewidth\":0,\"ticks\":\"\"}},\"type\":\"scattergeo\"}],\"scattergl\":[{\"marker\":{\"colorbar\":{\"outlinewidth\":0,\"ticks\":\"\"}},\"type\":\"scattergl\"}],\"scattermapbox\":[{\"marker\":{\"colorbar\":{\"outlinewidth\":0,\"ticks\":\"\"}},\"type\":\"scattermapbox\"}],\"scatterpolar\":[{\"marker\":{\"colorbar\":{\"outlinewidth\":0,\"ticks\":\"\"}},\"type\":\"scatterpolar\"}],\"scatterpolargl\":[{\"marker\":{\"colorbar\":{\"outlinewidth\":0,\"ticks\":\"\"}},\"type\":\"scatterpolargl\"}],\"scatterternary\":[{\"marker\":{\"colorbar\":{\"outlinewidth\":0,\"ticks\":\"\"}},\"type\":\"scatterternary\"}],\"surface\":[{\"colorbar\":{\"outlinewidth\":0,\"ticks\":\"\"},\"colorscale\":[[0.0,\"#0d0887\"],[0.1111111111111111,\"#46039f\"],[0.2222222222222222,\"#7201a8\"],[0.3333333333333333,\"#9c179e\"],[0.4444444444444444,\"#bd3786\"],[0.5555555555555556,\"#d8576b\"],[0.6666666666666666,\"#ed7953\"],[0.7777777777777778,\"#fb9f3a\"],[0.8888888888888888,\"#fdca26\"],[1.0,\"#f0f921\"]],\"type\":\"surface\"}],\"table\":[{\"cells\":{\"fill\":{\"color\":\"#EBF0F8\"},\"line\":{\"color\":\"white\"}},\"header\":{\"fill\":{\"color\":\"#C8D4E3\"},\"line\":{\"color\":\"white\"}},\"type\":\"table\"}]},\"layout\":{\"annotationdefaults\":{\"arrowcolor\":\"#2a3f5f\",\"arrowhead\":0,\"arrowwidth\":1},\"autotypenumbers\":\"strict\",\"coloraxis\":{\"colorbar\":{\"outlinewidth\":0,\"ticks\":\"\"}},\"colorscale\":{\"diverging\":[[0,\"#8e0152\"],[0.1,\"#c51b7d\"],[0.2,\"#de77ae\"],[0.3,\"#f1b6da\"],[0.4,\"#fde0ef\"],[0.5,\"#f7f7f7\"],[0.6,\"#e6f5d0\"],[0.7,\"#b8e186\"],[0.8,\"#7fbc41\"],[0.9,\"#4d9221\"],[1,\"#276419\"]],\"sequential\":[[0.0,\"#0d0887\"],[0.1111111111111111,\"#46039f\"],[0.2222222222222222,\"#7201a8\"],[0.3333333333333333,\"#9c179e\"],[0.4444444444444444,\"#bd3786\"],[0.5555555555555556,\"#d8576b\"],[0.6666666666666666,\"#ed7953\"],[0.7777777777777778,\"#fb9f3a\"],[0.8888888888888888,\"#fdca26\"],[1.0,\"#f0f921\"]],\"sequentialminus\":[[0.0,\"#0d0887\"],[0.1111111111111111,\"#46039f\"],[0.2222222222222222,\"#7201a8\"],[0.3333333333333333,\"#9c179e\"],[0.4444444444444444,\"#bd3786\"],[0.5555555555555556,\"#d8576b\"],[0.6666666666666666,\"#ed7953\"],[0.7777777777777778,\"#fb9f3a\"],[0.8888888888888888,\"#fdca26\"],[1.0,\"#f0f921\"]]},\"colorway\":[\"#636efa\",\"#EF553B\",\"#00cc96\",\"#ab63fa\",\"#FFA15A\",\"#19d3f3\",\"#FF6692\",\"#B6E880\",\"#FF97FF\",\"#FECB52\"],\"font\":{\"color\":\"#2a3f5f\"},\"geo\":{\"bgcolor\":\"white\",\"lakecolor\":\"white\",\"landcolor\":\"#E5ECF6\",\"showlakes\":true,\"showland\":true,\"subunitcolor\":\"white\"},\"hoverlabel\":{\"align\":\"left\"},\"hovermode\":\"closest\",\"mapbox\":{\"style\":\"light\"},\"paper_bgcolor\":\"white\",\"plot_bgcolor\":\"#E5ECF6\",\"polar\":{\"angularaxis\":{\"gridcolor\":\"white\",\"linecolor\":\"white\",\"ticks\":\"\"},\"bgcolor\":\"#E5ECF6\",\"radialaxis\":{\"gridcolor\":\"white\",\"linecolor\":\"white\",\"ticks\":\"\"}},\"scene\":{\"xaxis\":{\"backgroundcolor\":\"#E5ECF6\",\"gridcolor\":\"white\",\"gridwidth\":2,\"linecolor\":\"white\",\"showbackground\":true,\"ticks\":\"\",\"zerolinecolor\":\"white\"},\"yaxis\":{\"backgroundcolor\":\"#E5ECF6\",\"gridcolor\":\"white\",\"gridwidth\":2,\"linecolor\":\"white\",\"showbackground\":true,\"ticks\":\"\",\"zerolinecolor\":\"white\"},\"zaxis\":{\"backgroundcolor\":\"#E5ECF6\",\"gridcolor\":\"white\",\"gridwidth\":2,\"linecolor\":\"white\",\"showbackground\":true,\"ticks\":\"\",\"zerolinecolor\":\"white\"}},\"shapedefaults\":{\"line\":{\"color\":\"#2a3f5f\"}},\"ternary\":{\"aaxis\":{\"gridcolor\":\"white\",\"linecolor\":\"white\",\"ticks\":\"\"},\"baxis\":{\"gridcolor\":\"white\",\"linecolor\":\"white\",\"ticks\":\"\"},\"bgcolor\":\"#E5ECF6\",\"caxis\":{\"gridcolor\":\"white\",\"linecolor\":\"white\",\"ticks\":\"\"}},\"title\":{\"x\":0.05},\"xaxis\":{\"automargin\":true,\"gridcolor\":\"white\",\"linecolor\":\"white\",\"ticks\":\"\",\"title\":{\"standoff\":15},\"zerolinecolor\":\"white\",\"zerolinewidth\":2},\"yaxis\":{\"automargin\":true,\"gridcolor\":\"white\",\"linecolor\":\"white\",\"ticks\":\"\",\"title\":{\"standoff\":15},\"zerolinecolor\":\"white\",\"zerolinewidth\":2}}},\"xaxis\":{\"anchor\":\"y\",\"domain\":[0.0,1.0],\"title\":{\"text\":\"Epochs\"}},\"yaxis\":{\"anchor\":\"x\",\"domain\":[0.0,1.0],\"title\":{\"text\":\"Loss Value\"}}},                        {\"responsive\": true}                    ).then(function(){\n",
       "                            \n",
       "var gd = document.getElementById('1b2e8f7f-01de-40db-b0bd-74e2f9753eeb');\n",
       "var x = new MutationObserver(function (mutations, observer) {{\n",
       "        var display = window.getComputedStyle(gd).display;\n",
       "        if (!display || display === 'none') {{\n",
       "            console.log([gd, 'removed!']);\n",
       "            Plotly.purge(gd);\n",
       "            observer.disconnect();\n",
       "        }}\n",
       "}});\n",
       "\n",
       "// Listen for the removal of the full notebook cells\n",
       "var notebookContainer = gd.closest('#notebook-container');\n",
       "if (notebookContainer) {{\n",
       "    x.observe(notebookContainer, {childList: true});\n",
       "}}\n",
       "\n",
       "// Listen for the clearing of the current output cell\n",
       "var outputEl = gd.closest('.output');\n",
       "if (outputEl) {{\n",
       "    x.observe(outputEl, {childList: true});\n",
       "}}\n",
       "\n",
       "                        })                };                });            </script>        </div>"
      ]
     },
     "metadata": {},
     "output_type": "display_data"
    }
   ],
   "source": [
    "#Plotting loss to epochs function using plotly express\n",
    "\n",
    "loss_fig = px.line(history.history, y=['loss', 'val_loss'],\n",
    "                   labels={'index':'Epochs',\n",
    "                           'value': 'Loss Value',\n",
    "                           'variable': ''}\n",
    "                  )\n",
    "loss_fig.show()"
   ]
  },
  {
   "cell_type": "code",
   "execution_count": 76,
   "id": "5e241747",
   "metadata": {},
   "outputs": [],
   "source": [
    "submission_df = pd.DataFrame(predicts)"
   ]
  },
  {
   "cell_type": "code",
   "execution_count": 77,
   "id": "dfe50841",
   "metadata": {},
   "outputs": [
    {
     "data": {
      "text/html": [
       "<div>\n",
       "<style scoped>\n",
       "    .dataframe tbody tr th:only-of-type {\n",
       "        vertical-align: middle;\n",
       "    }\n",
       "\n",
       "    .dataframe tbody tr th {\n",
       "        vertical-align: top;\n",
       "    }\n",
       "\n",
       "    .dataframe thead th {\n",
       "        text-align: right;\n",
       "    }\n",
       "</style>\n",
       "<table border=\"1\" class=\"dataframe\">\n",
       "  <thead>\n",
       "    <tr style=\"text-align: right;\">\n",
       "      <th></th>\n",
       "      <th>0</th>\n",
       "    </tr>\n",
       "  </thead>\n",
       "  <tbody>\n",
       "    <tr>\n",
       "      <th>1461</th>\n",
       "      <td>116286.968750</td>\n",
       "    </tr>\n",
       "    <tr>\n",
       "      <th>1462</th>\n",
       "      <td>154547.531250</td>\n",
       "    </tr>\n",
       "    <tr>\n",
       "      <th>1463</th>\n",
       "      <td>163828.875000</td>\n",
       "    </tr>\n",
       "    <tr>\n",
       "      <th>1464</th>\n",
       "      <td>182660.703125</td>\n",
       "    </tr>\n",
       "    <tr>\n",
       "      <th>1465</th>\n",
       "      <td>213295.671875</td>\n",
       "    </tr>\n",
       "    <tr>\n",
       "      <th>...</th>\n",
       "      <td>...</td>\n",
       "    </tr>\n",
       "    <tr>\n",
       "      <th>2915</th>\n",
       "      <td>110880.093750</td>\n",
       "    </tr>\n",
       "    <tr>\n",
       "      <th>2916</th>\n",
       "      <td>113393.304688</td>\n",
       "    </tr>\n",
       "    <tr>\n",
       "      <th>2917</th>\n",
       "      <td>144856.421875</td>\n",
       "    </tr>\n",
       "    <tr>\n",
       "      <th>2918</th>\n",
       "      <td>117102.281250</td>\n",
       "    </tr>\n",
       "    <tr>\n",
       "      <th>2919</th>\n",
       "      <td>246459.250000</td>\n",
       "    </tr>\n",
       "  </tbody>\n",
       "</table>\n",
       "<p>1459 rows × 1 columns</p>\n",
       "</div>"
      ],
      "text/plain": [
       "                  0\n",
       "1461  116286.968750\n",
       "1462  154547.531250\n",
       "1463  163828.875000\n",
       "1464  182660.703125\n",
       "1465  213295.671875\n",
       "...             ...\n",
       "2915  110880.093750\n",
       "2916  113393.304688\n",
       "2917  144856.421875\n",
       "2918  117102.281250\n",
       "2919  246459.250000\n",
       "\n",
       "[1459 rows x 1 columns]"
      ]
     },
     "execution_count": 77,
     "metadata": {},
     "output_type": "execute_result"
    }
   ],
   "source": [
    "submission_df.index = range(1461, 2920)\n",
    "submission_df"
   ]
  },
  {
   "cell_type": "code",
   "execution_count": 78,
   "id": "ba0e3b54",
   "metadata": {},
   "outputs": [],
   "source": [
    "submission_df.columns = ['SalePrice']\n",
    "submission_df['Id'] = submission_df.index"
   ]
  },
  {
   "cell_type": "code",
   "execution_count": 79,
   "id": "8cc7331f",
   "metadata": {},
   "outputs": [
    {
     "name": "stdout",
     "output_type": "stream",
     "text": [
      "<class 'pandas.core.frame.DataFrame'>\n",
      "RangeIndex: 1459 entries, 0 to 1458\n",
      "Data columns (total 2 columns):\n",
      " #   Column     Non-Null Count  Dtype  \n",
      "---  ------     --------------  -----  \n",
      " 0   Id         1459 non-null   int64  \n",
      " 1   SalePrice  1459 non-null   float32\n",
      "dtypes: float32(1), int64(1)\n",
      "memory usage: 17.2 KB\n"
     ]
    }
   ],
   "source": [
    "submission_df = submission_df.reindex(columns=['Id', 'SalePrice'])\n",
    "submission_df.index = range(0, len(submission_df))\n",
    "submission_df=submission_df.fillna(submission_df.SalePrice.mean())\n",
    "submission_df.info()"
   ]
  },
  {
   "cell_type": "code",
   "execution_count": 80,
   "id": "339ebd7e",
   "metadata": {},
   "outputs": [],
   "source": [
    "submission_df.to_csv('submission.csv', index=False)"
   ]
  },
  {
   "cell_type": "code",
   "execution_count": null,
   "id": "abf733d5",
   "metadata": {},
   "outputs": [],
   "source": []
  }
 ],
 "metadata": {
  "kernelspec": {
   "display_name": "Python 3",
   "language": "python",
   "name": "python3"
  },
  "language_info": {
   "codemirror_mode": {
    "name": "ipython",
    "version": 3
   },
   "file_extension": ".py",
   "mimetype": "text/x-python",
   "name": "python",
   "nbconvert_exporter": "python",
   "pygments_lexer": "ipython3",
   "version": "3.8.8"
  }
 },
 "nbformat": 4,
 "nbformat_minor": 5
}
